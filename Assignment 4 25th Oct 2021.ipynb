{
 "cells": [
  {
   "cell_type": "markdown",
   "id": "c5347224",
   "metadata": {},
   "source": [
    "<h3> 1.WAP to multiply all items in a list"
   ]
  },
  {
   "cell_type": "code",
   "execution_count": 1,
   "id": "a3b6b1de",
   "metadata": {},
   "outputs": [
    {
     "name": "stdout",
     "output_type": "stream",
     "text": [
      "120\n"
     ]
    }
   ],
   "source": [
    "l1 = [1,2,3,4,5]\n",
    "p = 1\n",
    "for i in l1:\n",
    "    p = p*i\n",
    "print(p)    \n",
    "    "
   ]
  },
  {
   "cell_type": "markdown",
   "id": "50c6f490",
   "metadata": {},
   "source": [
    "<h3> 2.WAP to get the largest number in a list"
   ]
  },
  {
   "cell_type": "code",
   "execution_count": 12,
   "id": "6539bfe3",
   "metadata": {},
   "outputs": [
    {
     "name": "stdout",
     "output_type": "stream",
     "text": [
      "9\n"
     ]
    }
   ],
   "source": [
    "l2 = [1,9,3,7,4,6]\n",
    "l2.sort()\n",
    "lar = len(l2)-1\n",
    "print(l2[lar])\n"
   ]
  },
  {
   "cell_type": "markdown",
   "id": "b267ec61",
   "metadata": {},
   "source": [
    "<h3> 3.WAP to get the smallest number in a list"
   ]
  },
  {
   "cell_type": "code",
   "execution_count": 14,
   "id": "a2c02d78",
   "metadata": {},
   "outputs": [
    {
     "name": "stdout",
     "output_type": "stream",
     "text": [
      "1\n"
     ]
    }
   ],
   "source": [
    "l3 = [1,9,2,8,3,8]\n",
    "l3.sort()\n",
    "print(l3[0])"
   ]
  },
  {
   "cell_type": "markdown",
   "id": "8d904fba",
   "metadata": {},
   "source": [
    "<h3> 4.WAP to check if a list is empty or not"
   ]
  },
  {
   "cell_type": "code",
   "execution_count": 19,
   "id": "8e5948e4",
   "metadata": {},
   "outputs": [
    {
     "name": "stdout",
     "output_type": "stream",
     "text": [
      "List is not empty\n"
     ]
    }
   ],
   "source": [
    "l4 = [2,45]\n",
    "length = len(l4)\n",
    "if length == 0:\n",
    "    print(\"List is empty\")\n",
    "else:\n",
    "    print(\"List is not empty\")"
   ]
  },
  {
   "cell_type": "markdown",
   "id": "3c951cda",
   "metadata": {},
   "source": [
    "<h3> 5.WA python fuction that takes two list and return true if they have at lessdt one common member"
   ]
  },
  {
   "cell_type": "code",
   "execution_count": 5,
   "id": "4444c5f0",
   "metadata": {},
   "outputs": [
    {
     "data": {
      "text/plain": [
       "True"
      ]
     },
     "execution_count": 5,
     "metadata": {},
     "output_type": "execute_result"
    }
   ],
   "source": [
    "list1 = [1,2,3,4]\n",
    "list2 = [4,6,7,8]\n",
    "def compare(l1,l2):\n",
    "    for i in l1:\n",
    "        for j in l2:\n",
    "            if i == j:\n",
    "                return True\n",
    "    return False  \n",
    "compare(list1,list2)\n",
    "    "
   ]
  },
  {
   "cell_type": "code",
   "execution_count": null,
   "id": "c42666a9",
   "metadata": {},
   "outputs": [],
   "source": []
  },
  {
   "cell_type": "markdown",
   "id": "054cb54d",
   "metadata": {},
   "source": [
    "<h3> 6.WAP to print a specified list after removing 0th, 4th ,5th"
   ]
  },
  {
   "cell_type": "code",
   "execution_count": 27,
   "id": "355efe3c",
   "metadata": {},
   "outputs": [],
   "source": [
    "l5 = [1,2,3,4,5,6,7,8,9]\n",
    "l5.remove(1)\n",
    "l5.remove(5)\n",
    "l5.remove(6)"
   ]
  },
  {
   "cell_type": "code",
   "execution_count": 28,
   "id": "d5a9c688",
   "metadata": {},
   "outputs": [
    {
     "data": {
      "text/plain": [
       "[2, 3, 4, 7, 8, 9]"
      ]
     },
     "execution_count": 28,
     "metadata": {},
     "output_type": "execute_result"
    }
   ],
   "source": [
    "l5"
   ]
  },
  {
   "cell_type": "markdown",
   "id": "313fc600",
   "metadata": {},
   "source": [
    "<h3> 7.WAP to concatenate two dic "
   ]
  },
  {
   "cell_type": "code",
   "execution_count": 8,
   "id": "c5b54d0f",
   "metadata": {},
   "outputs": [
    {
     "name": "stdout",
     "output_type": "stream",
     "text": [
      "{1: 10, 2: 20, 3: 30, 4: 40}\n"
     ]
    }
   ],
   "source": [
    "dict1 = {1:10,2:20}\n",
    "dict2 = {3:30,4:40}\n",
    "\n",
    "dict1.update(dict2)\n",
    "print(dict1)"
   ]
  },
  {
   "cell_type": "markdown",
   "id": "6e9323f7",
   "metadata": {},
   "source": [
    "<h3> 8.WAP to create a tuple with different data types\n",
    "    "
   ]
  },
  {
   "cell_type": "code",
   "execution_count": 39,
   "id": "832e89c3",
   "metadata": {},
   "outputs": [
    {
     "name": "stdout",
     "output_type": "stream",
     "text": [
      "(1, 1.2, 'Ankit', True, (4+6j))\n"
     ]
    }
   ],
   "source": [
    "tup1 = (1,1.2,\"Ankit\",True,4+6j)\n",
    "print(tup1)"
   ]
  },
  {
   "cell_type": "markdown",
   "id": "7b086df1",
   "metadata": {},
   "source": [
    "<h3> 9.WAP to create a tuple with numbers and print one item"
   ]
  },
  {
   "cell_type": "code",
   "execution_count": 40,
   "id": "16ae958d",
   "metadata": {},
   "outputs": [
    {
     "name": "stdout",
     "output_type": "stream",
     "text": [
      "3\n"
     ]
    }
   ],
   "source": [
    "tup2 = (1,2,3,4,5,6,7,8)\n",
    "print(tup2[2])"
   ]
  },
  {
   "cell_type": "markdown",
   "id": "9e805e70",
   "metadata": {},
   "source": [
    "# <h3> 10.WAP to convert a tuple into string"
   ]
  },
  {
   "cell_type": "code",
   "execution_count": 45,
   "id": "618873fe",
   "metadata": {},
   "outputs": [
    {
     "name": "stdout",
     "output_type": "stream",
     "text": [
      "123456\n"
     ]
    },
    {
     "data": {
      "text/plain": [
       "str"
      ]
     },
     "execution_count": 45,
     "metadata": {},
     "output_type": "execute_result"
    }
   ],
   "source": [
    "tup3 = (1,2,3,4,5,6)\n",
    "str1 = \"\"\n",
    "for i in tup3:\n",
    "    i = str(i)\n",
    "    str1 +=i\n",
    "print(str1)  \n",
    "type(str1)"
   ]
  },
  {
   "cell_type": "markdown",
   "id": "163ea691",
   "metadata": {},
   "source": [
    "<h3> 11.WAP to get 4th element and 4th last elemtn from tuple"
   ]
  },
  {
   "cell_type": "code",
   "execution_count": 48,
   "id": "1eb12c80",
   "metadata": {},
   "outputs": [
    {
     "name": "stdout",
     "output_type": "stream",
     "text": [
      "4\n",
      "6\n"
     ]
    }
   ],
   "source": [
    "tup4 = (1,2,3,4,5,6,7,8,9)\n",
    "print(tup4[3])\n",
    "print(tup4[-4])"
   ]
  },
  {
   "cell_type": "markdown",
   "id": "539e3fdf",
   "metadata": {},
   "source": [
    "<h3> 13. WA function to sum all numbers in alist "
   ]
  },
  {
   "cell_type": "code",
   "execution_count": 68,
   "id": "06f91a53",
   "metadata": {},
   "outputs": [],
   "source": [
    "def sum_list(s_list):\n",
    "    sum_num = 0\n",
    "    for i in s_list:\n",
    "        sum_num += i\n",
    "    return sum_num\n",
    "        "
   ]
  },
  {
   "cell_type": "code",
   "execution_count": 69,
   "id": "a219af58",
   "metadata": {},
   "outputs": [
    {
     "data": {
      "text/plain": [
       "20"
      ]
     },
     "execution_count": 69,
     "metadata": {},
     "output_type": "execute_result"
    }
   ],
   "source": [
    "sum_list([8,2,3,0,7])"
   ]
  },
  {
   "cell_type": "markdown",
   "id": "ec5a0b0b",
   "metadata": {},
   "source": [
    "<h3> 14. WA function to sum all numbers in alist "
   ]
  },
  {
   "cell_type": "code",
   "execution_count": 74,
   "id": "f2f0fdff",
   "metadata": {},
   "outputs": [],
   "source": [
    "def mul_list(s_list):\n",
    "    mul_num = 1\n",
    "    for i in s_list:\n",
    "        mul_num *= i\n",
    "    return mul_num"
   ]
  },
  {
   "cell_type": "code",
   "execution_count": 75,
   "id": "69c7da13",
   "metadata": {},
   "outputs": [
    {
     "data": {
      "text/plain": [
       "-336"
      ]
     },
     "execution_count": 75,
     "metadata": {},
     "output_type": "execute_result"
    }
   ],
   "source": [
    "mul_list([8,2,3,-1,7])"
   ]
  },
  {
   "cell_type": "markdown",
   "id": "31514514",
   "metadata": {},
   "source": [
    "<h3> 15. Calculate the sum of all numbers from 1 to given numbers"
   ]
  },
  {
   "cell_type": "code",
   "execution_count": 80,
   "id": "6ba7dafe",
   "metadata": {},
   "outputs": [
    {
     "name": "stdout",
     "output_type": "stream",
     "text": [
      "15\n"
     ]
    }
   ],
   "source": [
    "given = 5\n",
    "sum = 0\n",
    "for i in range(1,given+1):\n",
    "    sum += i\n",
    "print(sum)    \n",
    "    "
   ]
  },
  {
   "cell_type": "markdown",
   "id": "5de89950",
   "metadata": {},
   "source": [
    "<h3> 16. WAP to print a table of given number"
   ]
  },
  {
   "cell_type": "code",
   "execution_count": 81,
   "id": "f304c7b7",
   "metadata": {},
   "outputs": [
    {
     "name": "stdout",
     "output_type": "stream",
     "text": [
      "Enter the number: 4\n",
      "4 * 1 = 4\n",
      "4 * 2 = 8\n",
      "4 * 3 = 12\n",
      "4 * 4 = 16\n",
      "4 * 5 = 20\n",
      "4 * 6 = 24\n",
      "4 * 7 = 28\n",
      "4 * 8 = 32\n",
      "4 * 9 = 36\n",
      "4 * 10 = 40\n"
     ]
    }
   ],
   "source": [
    "num = int(input(\"Enter the number: \"))\n",
    "for i in range(1,11):\n",
    "    print(num,\"*\",i,\"=\",num*i)"
   ]
  },
  {
   "cell_type": "markdown",
   "id": "f14e9240",
   "metadata": {},
   "source": [
    "<h3> 17.Display numbers form a list using loop"
   ]
  },
  {
   "cell_type": "code",
   "execution_count": 83,
   "id": "44997b11",
   "metadata": {},
   "outputs": [
    {
     "name": "stdout",
     "output_type": "stream",
     "text": [
      "1\n",
      "2\n",
      "3\n",
      "4\n",
      "5\n",
      "6\n",
      "7\n",
      "8\n",
      "0\n"
     ]
    }
   ],
   "source": [
    "list_n = [1,2,3,4,5,6,7,8,0]\n",
    "for i in list_n:\n",
    "    print(i)"
   ]
  },
  {
   "cell_type": "markdown",
   "id": "bc574da0",
   "metadata": {},
   "source": [
    "<h3> 18. WAP to count the total number opf digits in a number"
   ]
  },
  {
   "cell_type": "code",
   "execution_count": 9,
   "id": "ea4b6277",
   "metadata": {},
   "outputs": [
    {
     "name": "stdout",
     "output_type": "stream",
     "text": [
      "Enter your number: 456\n",
      "3\n"
     ]
    }
   ],
   "source": [
    "num_1 = int(input(\"Enter your number: \"))\n",
    "num_1 = str(num_1)\n",
    "print(len(num_1))"
   ]
  },
  {
   "cell_type": "markdown",
   "id": "53c62949",
   "metadata": {},
   "source": [
    "\n"
   ]
  },
  {
   "cell_type": "markdown",
   "id": "f23c490c",
   "metadata": {},
   "source": [
    "<h3>19.A company decided to give bonus of 5% to employee if his/her year of service is more than 5 years.\n",
    "Ask user for their salary and year of service and print the net bonus amount."
   ]
  },
  {
   "cell_type": "code",
   "execution_count": 11,
   "id": "4ea8cd77",
   "metadata": {},
   "outputs": [
    {
     "name": "stdout",
     "output_type": "stream",
     "text": [
      "Enter your salary in numbers only: 1000\n",
      "Enter your exp years: 6\n",
      "Your bonus is Rs. 1050.0\n"
     ]
    }
   ],
   "source": [
    "salary = int(input(\"Enter your salary in numbers only: \"))\n",
    "exp = int(input(\"Enter your exp years: \"))\n",
    "\n",
    "if exp > 5:\n",
    "    bonus = salary+((salary*5)/100)\n",
    "    print(\"Your bonus is Rs.\",bonus,)\n",
    "else:\n",
    "    print(\"You have less than 5 years exp\")\n"
   ]
  },
  {
   "cell_type": "markdown",
   "id": "ba31dda8",
   "metadata": {},
   "source": [
    "<h3>20.Take values of length and breadth of a rectangle from user and check if it is square or not.\n",
    "    \n"
   ]
  },
  {
   "cell_type": "code",
   "execution_count": 14,
   "id": "c88f7ec5",
   "metadata": {},
   "outputs": [
    {
     "name": "stdout",
     "output_type": "stream",
     "text": [
      "Enter the length: 8\n",
      "Enter the breadth: 8\n",
      "It is a square\n"
     ]
    }
   ],
   "source": [
    "length = int(input(\"Enter the length: \"))\n",
    "breadth = int(input(\"Enter the breadth: \"))\n",
    "\n",
    "if length == breadth:\n",
    "    print(\"It is a square\")\n",
    "else:\n",
    "    print(\"It is not a square\")"
   ]
  },
  {
   "cell_type": "markdown",
   "id": "10677c5d",
   "metadata": {},
   "source": [
    "<h3>21.A school has following rules for grading system:\n",
    "    \n",
    "a. Below 25 - F\n",
    "    \n",
    "b. 25 to 45 - E\n",
    "    \n",
    "c. 45 to 50 - D\n",
    "    \n",
    "d. 50 to 60 - C\n",
    "    \n",
    "e. 60 to 80 - B\n",
    "    \n",
    "f. Above 80 - A\n",
    "    \n",
    "Ask user to enter marks and print the corresponding grade."
   ]
  },
  {
   "cell_type": "code",
   "execution_count": 16,
   "id": "f324d02d",
   "metadata": {},
   "outputs": [
    {
     "name": "stdout",
     "output_type": "stream",
     "text": [
      "Enter your marks: 88\n",
      "Your grade is A\n"
     ]
    }
   ],
   "source": [
    "marks = int(input(\"Enter your marks: \"))\n",
    "\n",
    "if marks < 25:\n",
    "    print(\"Your grade is F\")\n",
    "elif marks >=25 and marks < 46:\n",
    "    print(\"Your grade is E\")\n",
    "elif marks >=45 and marks < 51:\n",
    "    print(\"Your grade is D\")\n",
    "elif marks >=50 and marks < 61:\n",
    "    print(\"Your grade is C\")\n",
    "elif marks >=60 and marks < 81:\n",
    "    print(\"Your grade is B\")\n",
    "else:\n",
    "    print(\"Your grade is A\")\n",
    "    \n",
    "    \n",
    "    \n"
   ]
  },
  {
   "cell_type": "markdown",
   "id": "b50a3d00",
   "metadata": {},
   "source": [
    "<h3> 22.Take input of age of 3 people by user and determine oldest and youngest among them.\n"
   ]
  },
  {
   "cell_type": "code",
   "execution_count": 8,
   "id": "3dc30753",
   "metadata": {},
   "outputs": [
    {
     "name": "stdout",
     "output_type": "stream",
     "text": [
      "Enter age of m1: 1\n",
      "Enter age of m2: 4\n",
      "Enter age of m3: 8\n",
      "8 is oldest\n",
      "1 is youngest\n"
     ]
    }
   ],
   "source": [
    "m1 = int(input(\"Enter age of m1: \"))\n",
    "m2 = int(input(\"Enter age of m2: \"))\n",
    "m3 = int(input(\"Enter age of m3: \"))\n",
    "\n",
    "if m1 > m2 and m1 > m3:\n",
    "    print(m1,\"is oldest\")\n",
    "    if m2 > m3:\n",
    "        print(m3,\"is youngest\")\n",
    "    else:\n",
    "        print(m2,\"is youngest\")\n",
    "elif m2>m1 and m2>m3:\n",
    "    print(m2,\"is oldest\")\n",
    "    if m1 > m3:\n",
    "        print(m3,\"is youngest\")\n",
    "    else:\n",
    "        print(m1,\"is youngest\")\n",
    "else:\n",
    "    print(m3,\"is oldest\")\n",
    "    if m1 > m2:\n",
    "        print(m2,\"is youngest\")\n",
    "    else:\n",
    "        print(m1,\"is youngest\")"
   ]
  },
  {
   "cell_type": "markdown",
   "id": "1a704b96",
   "metadata": {},
   "source": [
    "<h3>23.A student will not be allowed to sit in exam if his/her attendence is less than 75%.\n",
    "Take following input from user\n",
    "Number of classes held\n",
    "Number of classes attended.\n",
    "And print\n",
    "percentage of class attended\n",
    "Is student is allowed to sit in exam or not."
   ]
  },
  {
   "cell_type": "code",
   "execution_count": 17,
   "id": "d0b3a943",
   "metadata": {},
   "outputs": [
    {
     "name": "stdout",
     "output_type": "stream",
     "text": [
      "Enter the no. of classes held: 300\n",
      "Enter the no. of classes attended: 270\n",
      "Your percentage is  90.0 %\n",
      "You are allowed to sit in exam\n"
     ]
    }
   ],
   "source": [
    "held_class = int(input(\"Enter the no. of classes held: \")) \n",
    "attend_class = int(input(\"Enter the no. of classes attended: \")) \n",
    "\n",
    "percent = attend_class/held_class*100\n",
    "print(\"Your percentage is \",percent,\"%\")\n",
    "if percent > 75:\n",
    "    print(\"You are allowed to sit in exam\")\n",
    "else:\n",
    "    print(\"You are not allowed to sit in exam\")"
   ]
  },
  {
   "cell_type": "code",
   "execution_count": null,
   "id": "2dbdc73a",
   "metadata": {},
   "outputs": [],
   "source": []
  }
 ],
 "metadata": {
  "kernelspec": {
   "display_name": "Python 3",
   "language": "python",
   "name": "python3"
  },
  "language_info": {
   "codemirror_mode": {
    "name": "ipython",
    "version": 3
   },
   "file_extension": ".py",
   "mimetype": "text/x-python",
   "name": "python",
   "nbconvert_exporter": "python",
   "pygments_lexer": "ipython3",
   "version": "3.8.8"
  }
 },
 "nbformat": 4,
 "nbformat_minor": 5
}
