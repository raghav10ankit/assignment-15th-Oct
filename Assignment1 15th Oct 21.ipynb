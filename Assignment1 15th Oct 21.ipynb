{
 "cells": [
  {
   "cell_type": "markdown",
   "id": "5123b47a",
   "metadata": {},
   "source": [
    "# Q.1:  Wap to add 2 numbers"
   ]
  },
  {
   "cell_type": "code",
   "execution_count": 1,
   "id": "bbd64989",
   "metadata": {},
   "outputs": [
    {
     "name": "stdout",
     "output_type": "stream",
     "text": [
      "10\n"
     ]
    }
   ],
   "source": [
    "n1 = 3\n",
    "n2 = 7\n",
    "sum = n1+n2\n",
    "print(sum)"
   ]
  },
  {
   "cell_type": "markdown",
   "id": "4527aed7",
   "metadata": {},
   "source": [
    "# Q.2: Wap to add 2 numbers with user inputs"
   ]
  },
  {
   "cell_type": "code",
   "execution_count": 2,
   "id": "4fb3a351",
   "metadata": {},
   "outputs": [
    {
     "name": "stdout",
     "output_type": "stream",
     "text": [
      "Enter 1st number: 4\n",
      "Enter 2nd number: 7\n",
      "Sum of numbers is 11\n"
     ]
    }
   ],
   "source": [
    "n1 = int(input(\"Enter 1st number: \"))\n",
    "n2 = int(input(\"Enter 2nd number: \"))\n",
    "sum = n1+n2\n",
    "print(\"Sum of numbers is\", sum)"
   ]
  },
  {
   "cell_type": "markdown",
   "id": "6db91c08",
   "metadata": {},
   "source": [
    "# Q.3: Wap to find remainder when a number is divide by 2 or 3"
   ]
  },
  {
   "cell_type": "code",
   "execution_count": 8,
   "id": "deefb332",
   "metadata": {},
   "outputs": [
    {
     "name": "stdout",
     "output_type": "stream",
     "text": [
      "Enter the number: 7\n",
      "when 7 is divide by 2, the rem is 1\n",
      "when 7 is divide by 3, the rem is 1\n"
     ]
    }
   ],
   "source": [
    "n = int(input(\"Enter the number: \"))\n",
    "rem2 = n%2\n",
    "rem3 = n%3\n",
    "print(\"when\",n ,\"is divide by 2, the rem is\", rem2)\n",
    "print(\"when\",n ,\"is divide by 3, the rem is\", rem3)"
   ]
  },
  {
   "cell_type": "markdown",
   "id": "ac1c9997",
   "metadata": {},
   "source": [
    "# Q.4: Make a input function and check its type"
   ]
  },
  {
   "cell_type": "code",
   "execution_count": 9,
   "id": "d57697a9",
   "metadata": {},
   "outputs": [
    {
     "name": "stdout",
     "output_type": "stream",
     "text": [
      "enter anything: kjfndsk754\n",
      "<class 'str'>\n"
     ]
    }
   ],
   "source": [
    "data = input(\"enter anything: \")\n",
    "print(type(data))"
   ]
  },
  {
   "cell_type": "markdown",
   "id": "8568ee56",
   "metadata": {},
   "source": [
    "# Q.5:  Make two variable a & b ,also find which variable is greater use comaprison operator"
   ]
  },
  {
   "cell_type": "code",
   "execution_count": 10,
   "id": "10ce257a",
   "metadata": {},
   "outputs": [
    {
     "name": "stdout",
     "output_type": "stream",
     "text": [
      "6 is greater than 3\n"
     ]
    }
   ],
   "source": [
    "a = 6\n",
    "b = 3\n",
    "if a > b:\n",
    "    print(a,\"is greater than\",b)\n",
    "else:\n",
    "    print(b,\"is greater than\",a)"
   ]
  },
  {
   "cell_type": "markdown",
   "id": "a051b9dc",
   "metadata": {},
   "source": [
    "# Q.6: Find Avg. of two numbers"
   ]
  },
  {
   "cell_type": "code",
   "execution_count": 12,
   "id": "0edce697",
   "metadata": {},
   "outputs": [
    {
     "name": "stdout",
     "output_type": "stream",
     "text": [
      "Enter 1st number: 5\n",
      "Enter 2nd number: 8\n",
      "The average of two numbers is 6.5\n"
     ]
    }
   ],
   "source": [
    "n1 = int(input(\"Enter 1st number: \"))\n",
    "n2 = int(input(\"Enter 2nd number: \"))\n",
    "\n",
    "avg = (n1+n2)/2\n",
    "print(\"The average of two numbers is\",avg)"
   ]
  },
  {
   "cell_type": "markdown",
   "id": "194a75ec",
   "metadata": {},
   "source": [
    "# Q.7: Square of two numbers"
   ]
  },
  {
   "cell_type": "code",
   "execution_count": 15,
   "id": "b707887e",
   "metadata": {},
   "outputs": [
    {
     "name": "stdout",
     "output_type": "stream",
     "text": [
      "Enter the number: 7\n",
      "square of number is 49\n"
     ]
    }
   ],
   "source": [
    "n = int(input(\"Enter the number: \"))\n",
    "sqr = n**2\n",
    "print(\"square of number is\",sqr)"
   ]
  },
  {
   "cell_type": "markdown",
   "id": "73bcb5d6",
   "metadata": {},
   "source": [
    "# Q.8: Wap to find cube of a num"
   ]
  },
  {
   "cell_type": "code",
   "execution_count": 17,
   "id": "6cf2c090",
   "metadata": {},
   "outputs": [
    {
     "name": "stdout",
     "output_type": "stream",
     "text": [
      "Enter the number: 3\n",
      "The cube of number is 27\n"
     ]
    }
   ],
   "source": [
    "a = int(input(\"Enter the number: \"))\n",
    "cube = a**3\n",
    "print(\"The cube of number is\",cube)"
   ]
  },
  {
   "cell_type": "markdown",
   "id": "4512d2ca",
   "metadata": {},
   "source": [
    "# Q.9: Write a program to display user enter name using input function followed by  \"Welcome to coding world\" o/p---> Welcome to coding world Jeevan."
   ]
  },
  {
   "cell_type": "code",
   "execution_count": 18,
   "id": "9af92578",
   "metadata": {},
   "outputs": [
    {
     "name": "stdout",
     "output_type": "stream",
     "text": [
      "Enter your name: Ankit\n",
      "Welcome to coding world Ankit\n"
     ]
    }
   ],
   "source": [
    "name = input(\"Enter your name: \")\n",
    "print(\"Welcome to coding world\",name)"
   ]
  },
  {
   "cell_type": "markdown",
   "id": "32ab57b3",
   "metadata": {},
   "source": [
    "# Q.10: Make a letter template \"hello NAME , you are selected for this DATE\" o/p---> hello ram , you are selected for 2 nov;"
   ]
  },
  {
   "cell_type": "code",
   "execution_count": 19,
   "id": "3d710977",
   "metadata": {},
   "outputs": [
    {
     "name": "stdout",
     "output_type": "stream",
     "text": [
      "Enter your name: Ankit\n",
      "Enter date : Eg->2 april>2 nov\n",
      "Hello Ankit , you are selected for 2 nov\n"
     ]
    }
   ],
   "source": [
    "name = input(\"Enter your name: \")\n",
    "date = input(\"Enter date : Eg->2 april>\")\n",
    "print(\"Hello\",name,\", you are selected for\",date)"
   ]
  },
  {
   "cell_type": "code",
   "execution_count": null,
   "id": "a148345d",
   "metadata": {},
   "outputs": [],
   "source": []
  }
 ],
 "metadata": {
  "kernelspec": {
   "display_name": "Python 3",
   "language": "python",
   "name": "python3"
  },
  "language_info": {
   "codemirror_mode": {
    "name": "ipython",
    "version": 3
   },
   "file_extension": ".py",
   "mimetype": "text/x-python",
   "name": "python",
   "nbconvert_exporter": "python",
   "pygments_lexer": "ipython3",
   "version": "3.8.8"
  }
 },
 "nbformat": 4,
 "nbformat_minor": 5
}
