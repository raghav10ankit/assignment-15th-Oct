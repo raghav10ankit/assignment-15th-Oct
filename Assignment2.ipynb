{
 "cells": [
  {
   "cell_type": "markdown",
   "id": "e5743f75",
   "metadata": {},
   "source": [
    "# 1. Make a list of items entered by users"
   ]
  },
  {
   "cell_type": "code",
   "execution_count": 2,
   "id": "807e7544",
   "metadata": {},
   "outputs": [
    {
     "name": "stdout",
     "output_type": "stream",
     "text": [
      "Enter your name: Ankit Raghav\n",
      "Enter your age: 24\n",
      "Enter your gender: Male\n",
      "Enter your percentage: 98.6\n",
      "\n",
      "['Ankit Raghav', 24, 'Male', 98.6]\n"
     ]
    }
   ],
   "source": [
    "i1 = input(\"Enter your name: \")\n",
    "i2 = int(input(\"Enter your age: \"))\n",
    "i3 = input(\"Enter your gender: \")\n",
    "i4 = float(input(\"Enter your percentage: \"))\n",
    "\n",
    "l = [i1,i2,i3,i4]\n",
    "print()\n",
    "print(l)"
   ]
  },
  {
   "cell_type": "markdown",
   "id": "966a21e3",
   "metadata": {},
   "source": [
    "# 2. Display marks of some students & make it in sorted way"
   ]
  },
  {
   "cell_type": "code",
   "execution_count": 3,
   "id": "3f3739c0",
   "metadata": {},
   "outputs": [
    {
     "name": "stdout",
     "output_type": "stream",
     "text": [
      "Enter 1st student marks: 45\n",
      "Enter 2nd student marks: 23\n",
      "Enter 3rd student marks: 89\n",
      "Enter 4th student marks: 12\n",
      "[45, 23, 89, 12]\n",
      "[12, 23, 45, 89]\n"
     ]
    }
   ],
   "source": [
    "m1 = int(input(\"Enter 1st student marks: \"))\n",
    "m2 = int(input(\"Enter 2nd student marks: \"))\n",
    "m3 = int(input(\"Enter 3rd student marks: \"))\n",
    "m4 = int(input(\"Enter 4th student marks: \"))\n",
    "\n",
    "marks = [m1,m2,m3,m4]\n",
    "print(marks)\n",
    "\n",
    "marks.sort()\n",
    "print(marks)"
   ]
  },
  {
   "cell_type": "markdown",
   "id": "f4607fe1",
   "metadata": {},
   "source": [
    "# 3. Check Tuple is mutable or not?"
   ]
  },
  {
   "cell_type": "code",
   "execution_count": 4,
   "id": "08869069",
   "metadata": {},
   "outputs": [
    {
     "name": "stdout",
     "output_type": "stream",
     "text": [
      "(3, 6, 2, 7, 'Ankit', 'Raghav')\n"
     ]
    },
    {
     "ename": "TypeError",
     "evalue": "'tuple' object does not support item assignment",
     "output_type": "error",
     "traceback": [
      "\u001b[1;31m---------------------------------------------------------------------------\u001b[0m",
      "\u001b[1;31mTypeError\u001b[0m                                 Traceback (most recent call last)",
      "\u001b[1;32m<ipython-input-4-3b77fe919ac6>\u001b[0m in \u001b[0;36m<module>\u001b[1;34m\u001b[0m\n\u001b[0;32m      1\u001b[0m \u001b[0mt\u001b[0m \u001b[1;33m=\u001b[0m \u001b[1;33m(\u001b[0m\u001b[1;36m3\u001b[0m\u001b[1;33m,\u001b[0m\u001b[1;36m6\u001b[0m\u001b[1;33m,\u001b[0m\u001b[1;36m2\u001b[0m\u001b[1;33m,\u001b[0m\u001b[1;36m7\u001b[0m\u001b[1;33m,\u001b[0m\u001b[1;34m\"Ankit\"\u001b[0m\u001b[1;33m,\u001b[0m\u001b[1;34m\"Raghav\"\u001b[0m\u001b[1;33m)\u001b[0m\u001b[1;33m\u001b[0m\u001b[1;33m\u001b[0m\u001b[0m\n\u001b[0;32m      2\u001b[0m \u001b[0mprint\u001b[0m\u001b[1;33m(\u001b[0m\u001b[0mt\u001b[0m\u001b[1;33m)\u001b[0m\u001b[1;33m\u001b[0m\u001b[1;33m\u001b[0m\u001b[0m\n\u001b[1;32m----> 3\u001b[1;33m \u001b[0mt\u001b[0m\u001b[1;33m[\u001b[0m\u001b[1;36m3\u001b[0m\u001b[1;33m]\u001b[0m \u001b[1;33m=\u001b[0m \u001b[1;36m10\u001b[0m\u001b[1;33m\u001b[0m\u001b[1;33m\u001b[0m\u001b[0m\n\u001b[0m\u001b[0;32m      4\u001b[0m \u001b[0mprint\u001b[0m\u001b[1;33m(\u001b[0m\u001b[0mt\u001b[0m\u001b[1;33m)\u001b[0m\u001b[1;33m\u001b[0m\u001b[1;33m\u001b[0m\u001b[0m\n",
      "\u001b[1;31mTypeError\u001b[0m: 'tuple' object does not support item assignment"
     ]
    }
   ],
   "source": [
    "t = (3,6,2,7,\"Ankit\",\"Raghav\")\n",
    "print(t)\n",
    "t[3] = 10\n",
    "print(t)\n",
    "\n",
    "# if data changes without error then it is a mutable and if it shows error then it is immutable"
   ]
  },
  {
   "cell_type": "markdown",
   "id": "28b0385b",
   "metadata": {},
   "source": [
    "# 4. Sum of numbers (max 4 no.) in a list without any loops or functions"
   ]
  },
  {
   "cell_type": "code",
   "execution_count": 5,
   "id": "ecc5e5ff",
   "metadata": {},
   "outputs": [
    {
     "name": "stdout",
     "output_type": "stream",
     "text": [
      "21\n"
     ]
    }
   ],
   "source": [
    "n = [2,7,3,9]\n",
    "sum = n[0]+n[1]+n[2]+n[3]\n",
    "print(sum)"
   ]
  },
  {
   "cell_type": "markdown",
   "id": "44463617",
   "metadata": {},
   "source": [
    "# 5. Count the no. of 5 in the tuple t=(5,55,555,5555,-5,-55)"
   ]
  },
  {
   "cell_type": "code",
   "execution_count": 6,
   "id": "9f3ca176",
   "metadata": {},
   "outputs": [
    {
     "data": {
      "text/plain": [
       "1"
      ]
     },
     "execution_count": 6,
     "metadata": {},
     "output_type": "execute_result"
    }
   ],
   "source": [
    "tup=(5,55,555,5555,-5,-55)\n",
    "\n",
    "tup.count(5)"
   ]
  },
  {
   "cell_type": "code",
   "execution_count": null,
   "id": "7ba10730",
   "metadata": {},
   "outputs": [],
   "source": []
  }
 ],
 "metadata": {
  "kernelspec": {
   "display_name": "Python 3",
   "language": "python",
   "name": "python3"
  },
  "language_info": {
   "codemirror_mode": {
    "name": "ipython",
    "version": 3
   },
   "file_extension": ".py",
   "mimetype": "text/x-python",
   "name": "python",
   "nbconvert_exporter": "python",
   "pygments_lexer": "ipython3",
   "version": "3.8.8"
  }
 },
 "nbformat": 4,
 "nbformat_minor": 5
}
